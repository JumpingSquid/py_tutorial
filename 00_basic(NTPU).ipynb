{
 "cells": [
  {
   "cell_type": "markdown",
   "metadata": {},
   "source": [
    "# Module0. Basic Data type\n",
    "In this module, we will learn some basic data types in Python.\n",
    "These objects are the most important things in Python, you will use them to perform most of the tasks.\n",
    "\n",
    "本章節我們會先從Python的基本資料類型開始。這些物件是Python最重要的組成元件，所有你要用Python做的事情都會包含這些物件。"
   ]
  },
  {
   "cell_type": "markdown",
   "metadata": {},
   "source": [
    "## 1.Variable 變數\n",
    "Variables are the primitive object in Python. It consists two elements: name and value.\n",
    "In Python, we use <b>\"=\" to assign the value</b> to a variable name.\n",
    "There are two common types for value: <b>integer(int) and float</b>.\n",
    "\n",
    "變數是Python的基本物件，每個變數會有一個名稱，跟他所代表的值。變數可以用來儲存資料，讓程式在執行的時候，可以隨時使用。\n",
    "變數所代表的值是可以變動的，在Python中，我們使用 \"=\" 來改變變數所儲存的數值。\n",
    "變數可以儲存很多不同種類型的資料，我們先從最常見的兩個變數類型: 整數、浮點數開始講。"
   ]
  },
  {
   "cell_type": "markdown",
   "metadata": {},
   "source": [
    "## Integer 整數, Float 浮點數\n",
    "Integer is the number without decimal (e.g. 1, 2, 3, 4), and Float is the number include the decimal (1.0, 1.234).\n",
    "整數就是1, 2, 3, 4這不包含小數點的數字，而浮點數則是泛指所有包含小數點的數字，如1.0, 1.234。"
   ]
  },
  {
   "cell_type": "code",
   "execution_count": null,
   "metadata": {},
   "outputs": [],
   "source": [
    "# assign value to variables\n",
    "webpage_clicked = 5\n",
    "webpage_duration = 5.3\n",
    "average_webpage_per_visit = 5/3\n",
    "\n",
    "# print let you show the output\n",
    "print(\"webpage_clicked is\", webpage_clicked)\n",
    "print(\"webpage_duration is\", webpage_duration)\n",
    "print(\"average_webpage_per_visit is\",average_webpage_per_visit)"
   ]
  },
  {
   "cell_type": "markdown",
   "metadata": {},
   "source": [
    "If the variable represents numerical value, you can do the algebra directly by entering the formula.\n",
    "在Python中，如果你有一些代表數字的變數，你可以直接在Jupyter notebook輸入計算式並得到計算結果。  \n"
   ]
  },
  {
   "cell_type": "code",
   "execution_count": null,
   "metadata": {},
   "outputs": [],
   "source": [
    "# you can do basic algebra easily\n",
    "print(\"webpage_clicked + average_webpage_per_visit =\", webpage_clicked + average_webpage_per_visit)\n",
    "print(\"webpage_clicked * webpage_duration =\", webpage_clicked * webpage_duration)"
   ]
  },
  {
   "cell_type": "code",
   "execution_count": null,
   "outputs": [],
   "source": [
    "# try it here"
   ],
   "metadata": {
    "collapsed": false,
    "pycharm": {
     "name": "#%%\n"
    }
   }
  },
  {
   "cell_type": "markdown",
   "metadata": {},
   "source": [
    "## String 字串\n",
    "Besides number, we usually will handle text data. In python, you can use \"\" or '' to contain the text.\n",
    "The text between the '' and \"\" will be treated as String type data.\n",
    "除了數字以外，日常生活中我們也需要處理文字。在Python中，你可以使用\" \"(雙引號) 或是' '(單引號)來表示文字。\n",
    "只要夾在兩個符號之間的，系統便會知道那些是文字而不是變數。"
   ]
  },
  {
   "cell_type": "code",
   "execution_count": null,
   "metadata": {
    "scrolled": true
   },
   "outputs": [],
   "source": [
    "# string\n",
    "password1 = \"abcde\"\n",
    "print(\"password1 is\",password1)\n",
    "\n",
    "password2 = \"1\"\n",
    "print(\"password2 is\", password2)"
   ]
  },
  {
   "cell_type": "code",
   "execution_count": null,
   "metadata": {},
   "outputs": [],
   "source": [
    "password3 = \"This is my password\"\n",
    "print(password1 + password2 + password3)"
   ]
  },
  {
   "cell_type": "markdown",
   "metadata": {},
   "source": [
    "## Boolean 布林\n",
    "Boolean is an object with two states, True or False.\n",
    "It will be used in conditional statement. Since \"=\" is used to assign value,\n",
    "in python and most of the programming language, we use \"==\"(equal?) and \"!=\"(not equal?) to compare two objects.\n",
    "\n",
    "簡單來說，布林就是代表 \"是\" 或 \"否\"的變數。在Python裡，就是 True / False (有大小寫之分)。布林可以用來存放一個敘述是真是假。\n",
    "一個會出現布林變數的情況，是當我們使用 \"==\"(equal, 判斷右邊是否等於左邊) 或 \"!=\"(not equal, 判斷右邊是否不等於左邊)的情況。"
   ]
  },
  {
   "cell_type": "code",
   "execution_count": null,
   "metadata": {},
   "outputs": [],
   "source": [
    "# bool\n",
    "# use == to see if the two objects are the same\n",
    "bool_1 = password2 == 1\n",
    "print(bool_1)\n",
    "\n",
    "\n",
    "# use != to see if the two objects are not the same\n",
    "bool_2 = password2 != 1\n",
    "print(bool_2)"
   ]
  },
  {
   "cell_type": "markdown",
   "metadata": {},
   "source": [
    "## 2.Collection 物件集合\n",
    "After we create some variables, we might want to put some variables together, that is, to creat a collection of objects.\n",
    "In Python, the most used collection objects are list and dict.\n",
    "\n",
    "當我們創造很多個變數之後，我們為了方便整理，會把一些變數放在一個容器中，像是我們現實中會把東西收在一個盒子裡那樣。\n",
    "在Python中我們也可以創造這樣盒子，裝進我們的變數，以後只要拿出這個盒子來，就可以使用裡面的物件。最常見的容器包含list跟dict。"
   ]
  },
  {
   "cell_type": "markdown",
   "metadata": {},
   "source": [
    "## 2.1 List 串列\n",
    "List is a very useful object in Python. Basically you can put almost everything in a list regardless the data type.\n",
    "\n",
    "串列可以用來把多種不同的物件集合在一起，即使物件種類不一樣。"
   ]
  },
  {
   "cell_type": "code",
   "execution_count": null,
   "metadata": {
    "scrolled": true
   },
   "outputs": [],
   "source": [
    "# list\n",
    "# list is the basic collection in python to contain multiple data\n",
    "# you can put in number\n",
    "lst = [1000, 7213, 3324, 1020, 4213, 3124]\n",
    "print(lst)\n",
    "\n",
    "# or string\n",
    "lst_str = [\"customer_1\", \"customer_2\", \"customer_3\", \"customer_7\", \"customer_4\", \"customer_5\"]\n",
    "print(lst_str)\n",
    "\n",
    "# or mix\n",
    "lst_mix = [100, \"b\", True]\n",
    "print(lst_mix)\n",
    "\n",
    "# or even another list (basically you can put everything in a list)\n",
    "lst_with_lst = [lst_str, lst]\n",
    "print(lst_with_lst)"
   ]
  },
  {
   "cell_type": "markdown",
   "metadata": {},
   "source": [
    "### Indexing 查址\n",
    "When we have a list, and we want to find the item inside, we use [i] besides the list to retrieve the ith item in a list.\n",
    "To note, in the world of python index starts from 0 not 1, so if you need to get the first item in a list, we use [0].\n",
    "\n",
    "要從list裏頭找東西時，只要用在list的旁邊加上[位置(0, 1, 2, 3,...)]就可以顯示。  \n",
    "但值得注意的是，在Python的世界裡，會從0開始數，而不是從1開始。  \n",
    "所以要找list裡第一個物件時，我們要用[0]"
   ]
  },
  {
   "cell_type": "code",
   "execution_count": null,
   "metadata": {},
   "outputs": [],
   "source": [
    "print(lst)\n",
    "print(lst[0])"
   ]
  },
  {
   "cell_type": "markdown",
   "source": [
    "A complete indexing requires three arguments: [START: END: STEP].\n",
    "Assume we have a list called lst, we can use lst[2:6:2] to get items between 2nd item and 6th item for evey two items.\n",
    "If you leave the START as blank, in default it will be 0. If no END stated, it will be the final object.\n",
    "If you no step, then it will return every item.\n",
    "Also, if you specify the END, then the data retrieved will not include the ENDth one. So lst[0:6] will only get you the\n",
    "first to the sixth item in the lst.\n",
    "\n",
    "完整的查址，包含三個數字[開始位置: 結束位置: 步數]。\n",
    "所以lst[2:6:2]表示從lst這個串列中，第2個物件(實際上第三個)開始到第6個(實際上第七個)，每兩個物件就取出來一個物件。\n",
    "如果沒給開始位置，就預設為0。每給結束位置，就預設取到最後一個。如果沒給步數，就預設為1，也就是每個都取出來。\n",
    "在Python中還有一個關鍵，雖然我們設定了結束位置，但實際上程式不會取到結束位置，而是前一個。\n",
    "所以lst[0:6]實際上只會從第0個物件(實際上第一個)取到第5個物件(實際上第六個)。"
   ],
   "metadata": {
    "collapsed": false,
    "pycharm": {
     "name": "#%% md\n"
    }
   }
  },
  {
   "cell_type": "code",
   "execution_count": null,
   "outputs": [],
   "source": [
    "print(lst[2::])\n",
    "print(lst[2::2])\n",
    "print(lst[:2:])\n",
    "print(lst[::2])"
   ],
   "metadata": {
    "collapsed": false,
    "pycharm": {
     "name": "#%%\n"
    }
   }
  },
  {
   "cell_type": "markdown",
   "metadata": {},
   "source": [
    "### List Manipulation 串列操作\n",
    "Once you create a list, you might need to edit the list by adding new item or remove the existing one.\n",
    "Here are some command to achieve that:\n",
    "1. append(x): add a new item in the end of the list\n",
    "2. remove(x): remove item x in the list if x is in the list, if x is not in the list, it will produce error (quiz: what if there are multiple x?)\n",
    "3. +: you can also concatenate two list by \"+\"\n",
    "\n",
    "Python中提供了幾個操作list的方式，在這邊舉幾個例子:\n",
    "1. append(x): 在list的後面加上新的物件 x\n",
    "2. remove(x): 移除list的物件 x 注意:如果在list裡找不到你要移除的物件，或造成錯誤 (quiz: 那如果有重複的物件呢?)\n",
    "3. +: 你可以用\"+\"把兩個list連在一起"
   ]
  },
  {
   "cell_type": "code",
   "execution_count": null,
   "metadata": {},
   "outputs": [],
   "source": [
    "# you can create an empty list by assign []\n",
    "empty_lst = []\n",
    "print(empty_lst)\n",
    "\n",
    "# if you want to modify a list\n",
    "# use \"append\" to add item\n",
    "empty_lst.append(0)\n",
    "print(empty_lst)\n",
    "\n",
    "# use \"remove\" to delete item\n",
    "empty_lst.remove(0)\n",
    "print(empty_lst)\n",
    "\n",
    "# we can also use \"+\" to combine two lists\n",
    "lst_long = [1, 2, 3] + [4, 5, 6]\n",
    "print(lst_long)"
   ]
  },
  {
   "cell_type": "code",
   "execution_count": null,
   "metadata": {},
   "outputs": [],
   "source": [
    "# you can create an empty list by assign []\n",
    "empty_lst = []\n",
    "print(empty_lst)\n",
    "\n",
    "# use \"remove\" to delete an item that is not in the list\n",
    "empty_lst.remove(1)\n",
    "print(empty_lst)\n"
   ]
  },
  {
   "cell_type": "markdown",
   "metadata": {},
   "source": [
    "## 2.2 Dict 字典\n",
    "Although list is a simple way to bundle the objects, it has a disadvantage that when there are too many objects,\n",
    "it is hard for you to get the one you want.\n",
    "To address this issue, we can use dict. Dict is a collection that consists of multiple key-value pairs.\n",
    "Just like its name, in a dict, you need to specify a name as a key, and a corresponding value or objects.\n",
    "\n",
    "雖然list可以快速的把物件放在一起，但當list裡的東西一多，你很難及時找到你要的，因為要從list找到資料的方法，只有靠位址(第一個，第二個...)或是直接指定你要的東西名稱。\n",
    "在Python中，有另外一個方便的集合，叫做dict(字典)。當你要在字典裡放東西時，就跟現實社會的字典一個單字對上一個解釋一樣，你需要有一個key跟value。\n",
    "當之後要從這個字典裡找東西時，你只要提供[key]，字典就回給你這個key對應的value。"
   ]
  },
  {
   "cell_type": "code",
   "execution_count": null,
   "metadata": {},
   "outputs": [],
   "source": [
    "# dict\n",
    "# dict is another collection to contain data\n",
    "# it use key-value structure, that is, you have to give all data in a dict a label\n",
    "di = {\"Connecticut\": \"CT\"}\n",
    "print(di)\n",
    "\n",
    "# to add other item\n",
    "di[\"Pennsylvania\"] = \"PA\"\n",
    "print(di)\n",
    "\n",
    "# you can get the data by providing the key\n",
    "print(di[\"Pennsylvania\"])"
   ]
  },
  {
   "cell_type": "markdown",
   "metadata": {},
   "source": [
    "## 3.Control Flow 控制流程\n",
    "Now we have ingredients, the next step is to tell the computer how to cook them.\n",
    "For Python, we write the \"script\" to tell the computer what it needs to do in each step.\n",
    "In the Jupyter notebook, each block can be seemed as a small script. You write few commands, and the computer will\n",
    "do as follows. Sometimes we will need the computer to do something based on the current condition, this is called the\n",
    "\"control flow\". We introduce two elements for control flow here: if-elif-else, for.\n",
    "\n",
    "既然我們有了一堆物件(食材)，那我們接下來就要寫下指令(食譜)來告訴電腦該怎麼做。  \n",
    "在寫下指令的過程中，有時候需要電腦依照不同的情況來做不同的事(條件)，或是有同樣的事情要重複做N次時(迴圈)。  \n",
    "Python提供了一些語法來簡化這些過程，在這段我們先了解最基本的 if-elif-else 跟 for。"
   ]
  },
  {
   "cell_type": "markdown",
   "metadata": {},
   "source": [
    "When we use the control flow, we need to know the indentation.\n",
    "在控制流程中，還有一個重要的觀念，那就是indentation。\n",
    "![Alt text](https://miro.medium.com/max/1400/1*jKsBEaCHe-RjqNdVsnKMoA.png)\n",
    "image by Scratch"
   ]
  },
  {
   "cell_type": "markdown",
   "metadata": {},
   "source": [
    "假設今天我們有一個if條件達成時，我們要電腦去做的事(事情A)，這時候我們在寫事情A的指令時，\n",
    "就需要在前面多加上4個空白(空白鍵按四次或tab按一次，但一般都建議按四次空白，因為你不知道tab在不同情況下的效果)。\n",
    "這四個空白就是indentation，你可以想像成是寫文章分段的改念。"
   ]
  },
  {
   "cell_type": "markdown",
   "metadata": {},
   "source": [
    "### 3.1 if-elif-else\n",
    "if-elif-else is the syntax for conditional statement.\n",
    "if-elif-else是一個相當常見的語法，if condition 會讓電腦去判斷condition是否成立。  \n",
    "如果成立，就會執行if後面的事，如果沒有成立，則不會有後續動作。"
   ]
  },
  {
   "cell_type": "code",
   "execution_count": null,
   "metadata": {},
   "outputs": [],
   "source": [
    "# you can use \"if\" to ask python to act based on the condition\n",
    "# if <condition>:\n",
    "#    do something\n",
    "\n",
    "if 5 > 3:\n",
    "    print(\"yes\")"
   ]
  },
  {
   "cell_type": "markdown",
   "metadata": {},
   "source": [
    "if 是可以單用的語法，但如果你希望在條件不成立時，電腦可以做別的事，只要在後面加上else就可以。"
   ]
  },
  {
   "cell_type": "code",
   "execution_count": null,
   "metadata": {},
   "outputs": [],
   "source": [
    "# the structure of if-else:\n",
    "\n",
    "# if <condition>:\n",
    "#    do something\n",
    "# else:\n",
    "#    do other thing\n",
    "\n",
    "if 5 > 3:\n",
    "    print(\"yes\")\n",
    "else:\n",
    "    print(\"no\")"
   ]
  },
  {
   "cell_type": "markdown",
   "metadata": {},
   "source": [
    "在if-else之間，如果希望加入一連串的條件判斷，只要再加上 elif (else if)就可以。"
   ]
  },
  {
   "cell_type": "code",
   "execution_count": null,
   "metadata": {},
   "outputs": [],
   "source": [
    "# if you have multiple conditions, try if-elif-else\n",
    "\n",
    "logging_count = 5\n",
    "\n",
    "if logging_count > 4:\n",
    "    print(logging_count, \"is larger than the maximum limit four\")\n",
    "elif logging_count < 2:\n",
    "    print(logging_count, \"is smaller than the minimum limit two\")\n",
    "else:\n",
    "    print(logging_count, \"access successfully\")"
   ]
  },
  {
   "cell_type": "markdown",
   "metadata": {},
   "source": [
    "### 3.2 for\n",
    "for is the syntax in python to \"walk throug\" a collection.\n",
    "\n",
    "for 是用來 \"遍歷\" 一個組合的語法。假設你今天有一個裝滿物件的盒子(e.g., list)，你想要把裏頭的東西都倒出來，或是對每個物件做些事，\n",
    "你不需要重複的輸入lst[0], lst[1], ...。只要用一句 for <element> in <lst>，就可以完成。"
   ]
  },
  {
   "cell_type": "code",
   "execution_count": null,
   "metadata": {},
   "outputs": [],
   "source": [
    "# for <items> in <anything that contains some data>:\n",
    "#    do something\n",
    "\n",
    "# for example:\n",
    "user_ids = [1,2,3,4,5]\n",
    "for user_id in user_ids:\n",
    "    print(user_id)"
   ]
  },
  {
   "cell_type": "markdown",
   "metadata": {},
   "source": [
    "一個經常使用for的時機點，是搭配range()來重複一些指令許多次。  \n",
    "range(start, stop, step)是一個Python內建的方法，他能夠產生一組數字，從\"start\"開始，\"stop\"結束(注意: 但不包含stop)，中間間隔\"step\"。"
   ]
  },
  {
   "cell_type": "code",
   "execution_count": null,
   "metadata": {},
   "outputs": [],
   "source": [
    "# a common scenario to use \"for\" is to repeat something multiple times\n",
    "# by using range(start, stop, step)\n",
    "for i in range(0,5,1):\n",
    "    print(i)"
   ]
  },
  {
   "cell_type": "markdown",
   "metadata": {},
   "source": [
    "## Example"
   ]
  },
  {
   "cell_type": "markdown",
   "metadata": {},
   "source": [
    "我們用一個實際的例子來示範以上這些東西是怎麼用在現實的情況。  \n",
    "前面有提到dict這個物件，實務上，dict的格式常用在網頁要取得伺服器資料的時候。\n",
    "比方說你今天上Booking.com 去找紐約的飯店資訊，這時前端的網頁會跟後端的資料庫要飯店資料，後端找了一下便回傳一個很像Dict的資料(json)給前端。\n",
    "如此前端就可以顯示出飯店的名稱跟價格。"
   ]
  },
  {
   "cell_type": "code",
   "execution_count": null,
   "metadata": {},
   "outputs": [],
   "source": [
    "hotel_reviews = {\"hotel_name\": \"New York Hilton Midtown Manhattan Hotel\",\n",
    "                 \"location\": \"335 AVENUE OF THE AMERICAS, NEW YORK, NEW YORK, 10019, USA\",\n",
    "                 \"ratings\": [1, 3, 5, 2, 4],\n",
    "                 \"reviews\": [\"worst room ever\", \"average\", \"excellent\", \"too dark\", \"good location\"],\n",
    "                 \"price\": 1000}"
   ]
  },
  {
   "cell_type": "markdown",
   "metadata": {},
   "source": [
    "Ex1. 創造一個變數 ratings，並將他的值設為飯店評分的清單"
   ]
  },
  {
   "cell_type": "code",
   "execution_count": null,
   "metadata": {},
   "outputs": [],
   "source": [
    "ratings = #your code here"
   ]
  },
  {
   "cell_type": "markdown",
   "metadata": {},
   "source": [
    "Ex2. 利用For來計算這間飯店的分數總和是多少"
   ]
  },
  {
   "cell_type": "code",
   "execution_count": null,
   "metadata": {},
   "outputs": [],
   "source": [
    "ratings_sum = 0\n",
    "for #your code here\n",
    "    ratings_sum = ratings_sum + #your code here"
   ]
  }
 ],
 "metadata": {
  "kernelspec": {
   "display_name": "Python 3",
   "language": "python",
   "name": "python3"
  },
  "language_info": {
   "codemirror_mode": {
    "name": "ipython",
    "version": 3
   },
   "file_extension": ".py",
   "mimetype": "text/x-python",
   "name": "python",
   "nbconvert_exporter": "python",
   "pygments_lexer": "ipython3",
   "version": "3.5.5"
  }
 },
 "nbformat": 4,
 "nbformat_minor": 2
}