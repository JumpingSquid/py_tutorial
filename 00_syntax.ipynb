{
 "cells": [
  {
   "cell_type": "markdown",
   "metadata": {},
   "source": [
    "# Module0. Built-in Data type \n",
    "In this module, we will learn some of the basic data types in Python. These objects are the most important things in Python, you will use them to perform most of the tasks. Please feel free to skip this part if you find it simple and boring."
   ]
  },
  {
   "cell_type": "markdown",
   "metadata": {},
   "source": [
    "## 1.Variable\n",
    "Variables are the primitive object in Python. It consists two elements: name and value. In Python, we use <b>\"=\" to assign the value</b> to a variable name. There are two common types for value: <b>integer(int) and float</b>."
   ]
  },
  {
   "cell_type": "code",
   "execution_count": 1,
   "metadata": {},
   "outputs": [
    {
     "name": "stdout",
     "output_type": "stream",
     "text": [
      "x_1 is 5\n",
      "x_2 is 5.3\n",
      "x_3 is 1.6666666666666667\n",
      "y is 10\n"
     ]
    }
   ],
   "source": [
    "# assign value to variables\n",
    "x_1 = 5\n",
    "x_2 = 5.3\n",
    "x_3 = 5/3\n",
    "y = 10\n",
    "\n",
    "#print\n",
    "print(\"x_1 is\",x_1)\n",
    "print(\"x_2 is\",x_2)\n",
    "print(\"x_3 is\",x_3)\n",
    "print(\"y is\",y)"
   ]
  },
  {
   "cell_type": "markdown",
   "metadata": {},
   "source": [
    "If the variable represents numerical value, you can do the algebra directly by the variable."
   ]
  },
  {
   "cell_type": "code",
   "execution_count": 2,
   "metadata": {},
   "outputs": [
    {
     "name": "stdout",
     "output_type": "stream",
     "text": [
      "x_1 + x_2 = 10.3\n",
      "y - x_2 = 4.7\n",
      "x_3 * x_2 = 8.833333333333334\n",
      "y / x_1 = 2.0\n"
     ]
    }
   ],
   "source": [
    "# you can do basic algebra easily\n",
    "print(\"x_1 + x_2 =\", x_1 + x_2)\n",
    "print(\"y - x_2 =\", y - x_2)\n",
    "print(\"x_3 * x_2 =\", x_3 * x_2)\n",
    "print(\"y / x_1 =\", y/x_1)"
   ]
  },
  {
   "cell_type": "markdown",
   "metadata": {},
   "source": [
    "### String"
   ]
  },
  {
   "cell_type": "code",
   "execution_count": 3,
   "metadata": {
    "scrolled": true
   },
   "outputs": [
    {
     "name": "stdout",
     "output_type": "stream",
     "text": [
      "str_1 is abcde\n",
      "str_2 is 1\n"
     ]
    }
   ],
   "source": [
    "# string\n",
    "str_1 = \"abcde\"\n",
    "print(\"str_1 is\",str_1)\n",
    "\n",
    "str_2 = \"1\"\n",
    "print(\"str_2 is\", str_2)"
   ]
  },
  {
   "cell_type": "code",
   "execution_count": 4,
   "metadata": {},
   "outputs": [
    {
     "name": "stdout",
     "output_type": "stream",
     "text": [
      "abcde1This is an example\n"
     ]
    }
   ],
   "source": [
    "str_3 = \"This is an example\"\n",
    "print(str_1 + str_2 + str_3)"
   ]
  },
  {
   "cell_type": "markdown",
   "metadata": {},
   "source": [
    "### Boolean\n",
    "Boolean is an object with two states, True or False. It will be used in conditional statement. Since \"=\" is used to assign value, in python and most of the programming language, we use \"==\"(equal?) and \"!=\"(not equal?) to compare two objects."
   ]
  },
  {
   "cell_type": "code",
   "execution_count": 5,
   "metadata": {},
   "outputs": [
    {
     "name": "stdout",
     "output_type": "stream",
     "text": [
      "False\n",
      "True\n"
     ]
    }
   ],
   "source": [
    "# bool\n",
    "# use == to see if the two objects are the same\n",
    "bool_1 = str_2 == 1\n",
    "print(bool_1)\n",
    "\n",
    "\n",
    "# use != to see if the two objects are not the same\n",
    "bool_2 = str_2 != 1\n",
    "print(bool_2)"
   ]
  },
  {
   "cell_type": "markdown",
   "metadata": {},
   "source": [
    "## 2.Collection\n",
    "After we create some variables, we might want to put some variables together, that is, to creat a collection of objects. In Python, the most used collection are list and dict."
   ]
  },
  {
   "cell_type": "markdown",
   "metadata": {},
   "source": [
    "### List\n",
    "List is a very useful object in Python. Basically you can put almost everthing in a list."
   ]
  },
  {
   "cell_type": "code",
   "execution_count": 6,
   "metadata": {
    "scrolled": true
   },
   "outputs": [
    {
     "name": "stdout",
     "output_type": "stream",
     "text": [
      "[1, 2, 3]\n",
      "['a', 'b', 'c']\n",
      "[1, 'b']\n",
      "[[1, 2, 3], ['a', 'b', 'c']]\n"
     ]
    }
   ],
   "source": [
    "# list\n",
    "# list is the basic collection in python to contain multiple data\n",
    "# you can put in number\n",
    "lst = [1,2,3]\n",
    "print(lst)\n",
    "\n",
    "# or string\n",
    "lst_str = [\"a\", \"b\", \"c\"]\n",
    "print(lst_str)\n",
    "\n",
    "# or mix\n",
    "lst_mix = [1, \"b\"]\n",
    "print(lst_mix)\n",
    "\n",
    "# or even another list (basically you can put everything in a list)\n",
    "lst_with_lst = [lst, lst_str]\n",
    "print(lst_with_lst)"
   ]
  },
  {
   "cell_type": "code",
   "execution_count": 7,
   "metadata": {},
   "outputs": [
    {
     "name": "stdout",
     "output_type": "stream",
     "text": [
      "[]\n",
      "[0]\n",
      "[]\n",
      "[1, 2, 3, 4, 5, 6]\n",
      "2\n"
     ]
    }
   ],
   "source": [
    "# you can create an empty list by assign []\n",
    "empty_lst = []\n",
    "print(empty_lst)\n",
    "\n",
    "# if you want to modify a list\n",
    "# use \"append\" to add item\n",
    "empty_lst.append(0)\n",
    "print(empty_lst)\n",
    "\n",
    "# use \"remove\" to delete item\n",
    "empty_lst.remove(0)\n",
    "print(empty_lst)\n",
    "\n",
    "# we can also use \"+\" to combine two lists\n",
    "lst_long = [1, 2, 3] + [4, 5, 6]\n",
    "print(lst_long)\n",
    "\n",
    "# let's see the first item in lst_long... wait\n",
    "print(lst_long[1])"
   ]
  },
  {
   "cell_type": "markdown",
   "metadata": {},
   "source": [
    "### Dict\n",
    "Although list is a simple way to bundle the objects, it has a disadvantage that when there are too many objects, it is hard for you to get the one you want. To address this issue, we can use dict. Dict is a collection that consists of multiple key-value pairs. Just like its name, in a dict, you need to specify a name as a key, and a corresponding value or objects. "
   ]
  },
  {
   "cell_type": "code",
   "execution_count": 8,
   "metadata": {},
   "outputs": [
    {
     "name": "stdout",
     "output_type": "stream",
     "text": [
      "{'banana': 'yellow'}\n",
      "{'banana': 'yellow', 'apple': 'red'}\n",
      "red\n"
     ]
    }
   ],
   "source": [
    "# dict\n",
    "# dict is another collection to contain data\n",
    "# it use key-value structure, that is, you have to give all data in a dict a label\n",
    "di = {\"banana\": \"yellow\"}\n",
    "print(di)\n",
    "\n",
    "# to add other item\n",
    "di[\"apple\"] = \"red\"\n",
    "print(di)\n",
    "\n",
    "# you can get the data by providing the key\n",
    "print(di[\"apple\"])"
   ]
  },
  {
   "cell_type": "markdown",
   "metadata": {},
   "source": [
    "## 3.Syntax\n",
    "We introduce three syntax here: if-elif-else, for, and def."
   ]
  },
  {
   "cell_type": "markdown",
   "metadata": {},
   "source": [
    "### if-elif-else\n",
    "if-elif-else is the syntax for conditional statement.\n"
   ]
  },
  {
   "cell_type": "code",
   "execution_count": 9,
   "metadata": {},
   "outputs": [
    {
     "name": "stdout",
     "output_type": "stream",
     "text": [
      "yes\n"
     ]
    }
   ],
   "source": [
    "# you can use \"if\" to ask python to act on the condition\n",
    "# the structure of if-else:\n",
    "\n",
    "# if <condition>:\n",
    "#    do something\n",
    "# else:\n",
    "#    do other thing\n",
    "\n",
    "if 5 > 3:\n",
    "    print(\"yes\")\n",
    "else:\n",
    "    print(\"no\")"
   ]
  },
  {
   "cell_type": "code",
   "execution_count": 10,
   "metadata": {},
   "outputs": [
    {
     "name": "stdout",
     "output_type": "stream",
     "text": [
      "5 is larger than four\n"
     ]
    }
   ],
   "source": [
    "# if you have multiple conditions, try if-elif-else\n",
    "\n",
    "x = 5\n",
    "\n",
    "if x > 4:\n",
    "    print(x, \"is larger than four\")\n",
    "elif x < 2:\n",
    "    print(x, \"is smaller than two\")\n",
    "else:\n",
    "    print(x, \"is equal to three\")"
   ]
  },
  {
   "cell_type": "markdown",
   "metadata": {},
   "source": [
    "### for\n",
    "for is the syntax in python to \"walk throug\" a collection."
   ]
  },
  {
   "cell_type": "code",
   "execution_count": 11,
   "metadata": {},
   "outputs": [
    {
     "name": "stdout",
     "output_type": "stream",
     "text": [
      "1\n",
      "2\n",
      "3\n",
      "4\n",
      "5\n"
     ]
    }
   ],
   "source": [
    "# for <items> in <anything that contains some data>:\n",
    "#    do something\n",
    "\n",
    "# for example:\n",
    "lst_for = [1,2,3,4,5]\n",
    "for elements in lst_for:\n",
    "    print(elements)"
   ]
  },
  {
   "cell_type": "code",
   "execution_count": 12,
   "metadata": {},
   "outputs": [
    {
     "name": "stdout",
     "output_type": "stream",
     "text": [
      "0\n",
      "1\n",
      "2\n",
      "3\n",
      "4\n"
     ]
    }
   ],
   "source": [
    "# a common scenario to use \"for\" is to repeat something multiple times\n",
    "# by using range(start, stop, step)\n",
    "for i in range(0,5,1):\n",
    "    print(i)"
   ]
  },
  {
   "cell_type": "markdown",
   "metadata": {},
   "source": [
    "### def\n",
    "def is the syntax to create a function in Python. Just like the term \"function\" in mathematics, in Python function represents a object that produce some output given the input(arguments)"
   ]
  },
  {
   "cell_type": "code",
   "execution_count": 13,
   "metadata": {},
   "outputs": [
    {
     "name": "stdout",
     "output_type": "stream",
     "text": [
      "2\n"
     ]
    }
   ],
   "source": [
    "# def <function_name>(<arguments>):\n",
    "#     do something\n",
    "#     return <output>\n",
    "\n",
    "def function_and_one(x):\n",
    "    x = x + 1\n",
    "    return x\n",
    "\n",
    "print(function_and_one(1))"
   ]
  },
  {
   "cell_type": "code",
   "execution_count": 14,
   "metadata": {},
   "outputs": [
    {
     "name": "stdout",
     "output_type": "stream",
     "text": [
      "3\n"
     ]
    }
   ],
   "source": [
    "# and no argument is also a kind of argument\n",
    "\n",
    "def function_produce_three():\n",
    "    return 3\n",
    "\n",
    "print(function_produce_three())"
   ]
  },
  {
   "cell_type": "markdown",
   "metadata": {},
   "source": [
    "# Exercise"
   ]
  },
  {
   "cell_type": "markdown",
   "metadata": {},
   "source": [
    "You receive a list of member ids from the client. Member ids is in the form of integer. Before any analysis, you are told that the member id which is lower than 2000 is for testing but not the actual id. Please design a function which takes as input a list of member ids and produce a list without testing ids. "
   ]
  },
  {
   "cell_type": "code",
   "execution_count": 15,
   "metadata": {},
   "outputs": [],
   "source": [
    "member_id_list = [2001, 1, 353, 4993, 5350]"
   ]
  },
  {
   "cell_type": "markdown",
   "metadata": {},
   "source": [
    "Here I provide a very bad solution which indeed provides the right answer for this case. But why it is a very bad solution?"
   ]
  },
  {
   "cell_type": "code",
   "execution_count": 22,
   "metadata": {},
   "outputs": [],
   "source": [
    "def a_very_bad_solution(lst):\n",
    "    \n",
    "    lst = [2001, 4993, 5350]\n",
    "    \n",
    "    return lst"
   ]
  },
  {
   "cell_type": "code",
   "execution_count": 23,
   "metadata": {},
   "outputs": [
    {
     "name": "stdout",
     "output_type": "stream",
     "text": [
      "a_very_bad_solution: [2001, 4993, 5350]\n",
      "The correct answer is: [2001, 4993, 5350]\n"
     ]
    }
   ],
   "source": [
    "print('a_very_bad_solution:', a_very_bad_solution(member_id_list))\n",
    "print(\"The correct answer is:\", [2001, 4993, 5350])"
   ]
  },
  {
   "cell_type": "markdown",
   "metadata": {},
   "source": [
    "Now it is your turn.\n",
    "<br>Hint: you might need to use \"if\" and \"for\""
   ]
  },
  {
   "cell_type": "code",
   "execution_count": 25,
   "metadata": {},
   "outputs": [],
   "source": [
    "def remove_testing_id(lst):\n",
    "    \n",
    "    # what you gonna do\n",
    "    \n",
    "    return # list without testing id"
   ]
  },
  {
   "cell_type": "code",
   "execution_count": 20,
   "metadata": {},
   "outputs": [
    {
     "name": "stdout",
     "output_type": "stream",
     "text": [
      "My answer is: None\n",
      "The correct answer is: [2001, 4993, 5350]\n"
     ]
    }
   ],
   "source": [
    "print('My answer is:', remove_testing_id(member_id_list))\n",
    "print(\"The correct answer is:\", [2001, 4993, 5350])"
   ]
  }
 ],
 "metadata": {
  "kernelspec": {
   "display_name": "Python 3",
   "language": "python",
   "name": "python3"
  },
  "language_info": {
   "codemirror_mode": {
    "name": "ipython",
    "version": 3
   },
   "file_extension": ".py",
   "mimetype": "text/x-python",
   "name": "python",
   "nbconvert_exporter": "python",
   "pygments_lexer": "ipython3",
   "version": "3.6.8"
  }
 },
 "nbformat": 4,
 "nbformat_minor": 2
}
