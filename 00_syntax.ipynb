{
 "cells": [
  {
   "cell_type": "code",
   "execution_count": null,
   "metadata": {},
   "outputs": [],
   "source": [
    "# In this module, we will learn some of the basic elements in Python\n",
    "# feel free to skip this part if you find it simple and boring"
   ]
  },
  {
   "cell_type": "markdown",
   "metadata": {},
   "source": [
    "# Built-in Types \n",
    "(int, float, string, bool)"
   ]
  },
  {
   "cell_type": "code",
   "execution_count": 3,
   "metadata": {},
   "outputs": [
    {
     "name": "stdout",
     "output_type": "stream",
     "text": [
      "x_1 is 5\n",
      "x_2 is 5.3\n",
      "x_3 is 1.6666666666666667\n",
      "y is 10\n"
     ]
    }
   ],
   "source": [
    "# variable\n",
    "x_1 = 5\n",
    "x_2 = 5.3\n",
    "x_3 = 5/3\n",
    "y = 10\n",
    "\n",
    "#print\n",
    "print(\"x_1 is\",x_1)\n",
    "print(\"x_2 is\",x_2)\n",
    "print(\"x_3 is\",x_3)\n",
    "print(\"y is\",y)"
   ]
  },
  {
   "cell_type": "code",
   "execution_count": 13,
   "metadata": {},
   "outputs": [
    {
     "name": "stdout",
     "output_type": "stream",
     "text": [
      "x_1 + x_2 = 10.3\n",
      "y - x_2 = 4.7\n",
      "x_3 * x_2 = 8.833333333333334\n",
      "y / x_1 = 2.0\n"
     ]
    }
   ],
   "source": [
    "# you can do basic algebra easily\n",
    "print(\"x_1 + x_2 =\", x_1 + x_2)\n",
    "print(\"y - x_2 =\", y - x_2)\n",
    "print(\"x_3 * x_2 =\", x_3 * x_2)\n",
    "print(\"y / x_1 =\", y/x_1)"
   ]
  },
  {
   "cell_type": "code",
   "execution_count": 1,
   "metadata": {},
   "outputs": [
    {
     "name": "stdout",
     "output_type": "stream",
     "text": [
      "str_1 is abcde\n",
      "str_2 is 1\n"
     ]
    }
   ],
   "source": [
    "# string\n",
    "str_1 = \"abcde\"\n",
    "print(\"str_1 is\",str_1)\n",
    "\n",
    "str_2 = \"1\"\n",
    "print(\"str_2 is\", str_2)"
   ]
  },
  {
   "cell_type": "code",
   "execution_count": 2,
   "metadata": {},
   "outputs": [
    {
     "name": "stdout",
     "output_type": "stream",
     "text": [
      "False\n"
     ]
    }
   ],
   "source": [
    "# bool\n",
    "# use == to see if the two objects are the same\n",
    "print(str_2 == 1)"
   ]
  },
  {
   "cell_type": "markdown",
   "metadata": {},
   "source": [
    "# Collection\n",
    "(List, Dict)"
   ]
  },
  {
   "cell_type": "code",
   "execution_count": 10,
   "metadata": {
    "scrolled": true
   },
   "outputs": [
    {
     "name": "stdout",
     "output_type": "stream",
     "text": [
      "[1, 2, 3]\n",
      "['a', 'b', 'c']\n",
      "[1, 'b']\n",
      "[[1, 2, 3], ['a', 'b', 'c']]\n"
     ]
    }
   ],
   "source": [
    "# list\n",
    "# list is the basic collection in python to contain multiple data\n",
    "# you can put in number\n",
    "lst = [1,2,3]\n",
    "print(lst)\n",
    "\n",
    "# or string\n",
    "lst_str = [\"a\", \"b\", \"c\"]\n",
    "print(lst_str)\n",
    "\n",
    "# or mix\n",
    "lst_mix = [1, \"b\"]\n",
    "print(lst_mix)\n",
    "\n",
    "# or even another list (basically you can put everything in a list)\n",
    "lst_with_lst = [lst, lst_str]\n",
    "print(lst_with_lst)"
   ]
  },
  {
   "cell_type": "code",
   "execution_count": 11,
   "metadata": {},
   "outputs": [
    {
     "name": "stdout",
     "output_type": "stream",
     "text": [
      "[1, 2, 3, 0]\n",
      "[1, 2, 3]\n",
      "[1, 2, 3, 4, 5, 6]\n",
      "2\n"
     ]
    }
   ],
   "source": [
    "# if you eant to modify a list\n",
    "# use \"append\" to add item\n",
    "lst.append(0)\n",
    "print(lst)\n",
    "\n",
    "# use \"remove\" to delete item\n",
    "lst.remove(0)\n",
    "print(lst)\n",
    "\n",
    "# we can also use \"+\" to combine two lists\n",
    "lst_long = lst + [4, 5, 6]\n",
    "print(lst_long)\n",
    "\n",
    "# let's see the first item in lst_long... wait\n",
    "print(lst_long[1])"
   ]
  },
  {
   "cell_type": "code",
   "execution_count": 14,
   "metadata": {},
   "outputs": [
    {
     "name": "stdout",
     "output_type": "stream",
     "text": [
      "{'banana': 'yellow'}\n",
      "{'banana': 'yellow', 'apple': 'red'}\n",
      "red\n"
     ]
    }
   ],
   "source": [
    "# dict\n",
    "# dict is another collection to contain data\n",
    "# it use key-value structure, that is, you have to give all data in a dict a label\n",
    "di = {\"banana\": \"yellow\"}\n",
    "print(di)\n",
    "\n",
    "# to add other item\n",
    "di[\"apple\"] = \"red\"\n",
    "print(di)\n",
    "\n",
    "# you can get the data by providing the label\n",
    "print(di[\"apple\"])"
   ]
  },
  {
   "cell_type": "markdown",
   "metadata": {},
   "source": [
    "# Syntax\n",
    "(if-elif-else, for, def)"
   ]
  },
  {
   "cell_type": "code",
   "execution_count": 15,
   "metadata": {},
   "outputs": [
    {
     "name": "stdout",
     "output_type": "stream",
     "text": [
      "yes\n"
     ]
    }
   ],
   "source": [
    "# if-else\n",
    "# you can use \"if\" to ask python to act on the condition\n",
    "# the structure of if-else:\n",
    "\n",
    "# if <condition>:\n",
    "#    do something\n",
    "# else:\n",
    "#    do other thing\n",
    "\n",
    "if 5 > 3:\n",
    "    print(\"yes\")\n",
    "else:\n",
    "    print(\"no\")"
   ]
  },
  {
   "cell_type": "code",
   "execution_count": 17,
   "metadata": {},
   "outputs": [
    {
     "name": "stdout",
     "output_type": "stream",
     "text": [
      "5 is larger than four\n"
     ]
    }
   ],
   "source": [
    "# if you have multiple conditions, try if-elif-else\n",
    "\n",
    "x = 5\n",
    "\n",
    "if x > 4:\n",
    "    print(x, \"is larger than four\")\n",
    "elif x < 2:\n",
    "    print(x, \"is smaller than two\")\n",
    "else:\n",
    "    print(x, \"is equal to three\")"
   ]
  },
  {
   "cell_type": "code",
   "execution_count": 18,
   "metadata": {},
   "outputs": [
    {
     "name": "stdout",
     "output_type": "stream",
     "text": [
      "1\n",
      "2\n",
      "3\n",
      "4\n",
      "5\n"
     ]
    }
   ],
   "source": [
    "# for\n",
    "# for is the syntax in python to \"walk throug\" a collection\n",
    "\n",
    "# for <items> in <anything that contains some data>:\n",
    "#    do something\n",
    "\n",
    "# for example:\n",
    "lst_for = [1,2,3,4,5]\n",
    "for elements in lst_for:\n",
    "    print(elements)"
   ]
  },
  {
   "cell_type": "code",
   "execution_count": 19,
   "metadata": {},
   "outputs": [
    {
     "name": "stdout",
     "output_type": "stream",
     "text": [
      "0\n",
      "1\n",
      "2\n",
      "3\n",
      "4\n"
     ]
    }
   ],
   "source": [
    "# a common scenario to use \"for\" is to repeat something multiple times\n",
    "# by using range(start, stop, step)\n",
    "for i in range(0,5,1):\n",
    "    print(i)"
   ]
  },
  {
   "cell_type": "code",
   "execution_count": 21,
   "metadata": {},
   "outputs": [
    {
     "name": "stdout",
     "output_type": "stream",
     "text": [
      "2\n"
     ]
    }
   ],
   "source": [
    "# function\n",
    "# just like the term \"function\" in mathematics, in Python function represents a object that produce some output given the input(arguments)\n",
    "\n",
    "# def <function_name>(<arguments>):\n",
    "#     do something\n",
    "#     return <output>\n",
    "\n",
    "def function_and_one(x):\n",
    "    x = x + 1\n",
    "    return x\n",
    "\n",
    "print(function_and_one(1))"
   ]
  },
  {
   "cell_type": "code",
   "execution_count": 24,
   "metadata": {},
   "outputs": [
    {
     "name": "stdout",
     "output_type": "stream",
     "text": [
      "3\n"
     ]
    }
   ],
   "source": [
    "# and no argument is also a kind of argument\n",
    "\n",
    "def function_produce_three():\n",
    "    return 3\n",
    "\n",
    "print(function_produce_three())"
   ]
  },
  {
   "cell_type": "markdown",
   "metadata": {},
   "source": [
    "# Exercise"
   ]
  },
  {
   "cell_type": "code",
   "execution_count": null,
   "metadata": {},
   "outputs": [],
   "source": []
  }
 ],
 "metadata": {
  "kernelspec": {
   "display_name": "Python 3",
   "language": "python",
   "name": "python3"
  },
  "language_info": {
   "codemirror_mode": {
    "name": "ipython",
    "version": 3
   },
   "file_extension": ".py",
   "mimetype": "text/x-python",
   "name": "python",
   "nbconvert_exporter": "python",
   "pygments_lexer": "ipython3",
   "version": "3.5.5"
  }
 },
 "nbformat": 4,
 "nbformat_minor": 2
}
