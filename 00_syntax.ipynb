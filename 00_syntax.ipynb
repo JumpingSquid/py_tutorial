{
 "cells": [
  {
   "cell_type": "code",
   "execution_count": null,
   "metadata": {},
   "outputs": [],
   "source": [
    "# In this module, we will learn some of the basic elements in Python"
   ]
  },
  {
   "cell_type": "code",
   "execution_count": 9,
   "metadata": {},
   "outputs": [
    {
     "name": "stdout",
     "output_type": "stream",
     "text": [
      "5\n",
      "5.3\n",
      "1.6666666666666667\n",
      "10\n"
     ]
    }
   ],
   "source": [
    "# variable\n",
    "x_1 = 5\n",
    "x_2 = 5.3\n",
    "x_3 = 5/3\n",
    "y = 10\n",
    "\n",
    "#print\n",
    "print(x_1)\n",
    "print(x_2)\n",
    "print(x_3)\n",
    "print(y)"
   ]
  },
  {
   "cell_type": "code",
   "execution_count": 3,
   "metadata": {},
   "outputs": [
    {
     "name": "stdout",
     "output_type": "stream",
     "text": [
      "[0]\n",
      "[]\n",
      "[1, 2, 3]\n",
      "2\n"
     ]
    }
   ],
   "source": [
    "# list\n",
    "lst = [1,2,3]\n",
    "\n",
    "lst.append(0)\n",
    "print(lst)\n",
    "\n",
    "lst.remove(0)\n",
    "print(lst)\n",
    "\n",
    "lst_long = lst + [4, 5, 6]\n",
    "print(lst_long)\n",
    "\n",
    "print(lst_long[1])"
   ]
  },
  {
   "cell_type": "code",
   "execution_count": 7,
   "metadata": {},
   "outputs": [
    {
     "name": "stdout",
     "output_type": "stream",
     "text": [
      "{'banana': 'yellow'}\n",
      "{'banana': 'yellow', 'apple': 'red'}\n",
      "red\n"
     ]
    }
   ],
   "source": [
    "# dict\n",
    "di = {\"banana\": \"yellow\"}\n",
    "print(di)\n",
    "\n",
    "di[\"apple\"] = \"red\"\n",
    "print(di)\n",
    "\n",
    "print(di[\"apple\"])"
   ]
  },
  {
   "cell_type": "code",
   "execution_count": null,
   "metadata": {},
   "outputs": [],
   "source": []
  }
 ],
 "metadata": {
  "kernelspec": {
   "display_name": "Python 3",
   "language": "python",
   "name": "python3"
  },
  "language_info": {
   "codemirror_mode": {
    "name": "ipython",
    "version": 3
   },
   "file_extension": ".py",
   "mimetype": "text/x-python",
   "name": "python",
   "nbconvert_exporter": "python",
   "pygments_lexer": "ipython3",
   "version": "3.6.8"
  }
 },
 "nbformat": 4,
 "nbformat_minor": 2
}
