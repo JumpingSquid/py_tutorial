{
 "cells": [
  {
   "cell_type": "markdown",
   "metadata": {},
   "source": [
    "# Module2. Matplotlib\n",
    "Data visualization help the user to explore the data more quickly and intuitively.<br>\n",
    "In Python, there are two major packages, Matplotlib and Seaborn.<br>\n",
    "Matplotlib is a more flexible package, it allows user to design a customized chart.<br>\n",
    "Seaborn is a visualization tool built on Matplotlib, it encapsulates some of Maplotlib's functions and provides a more user-friendly experience.<br>\n",
    "In this module, we will try to use Matplotlib to produce some basic charts.<br>\n",
    "\n",
    "資料視覺化可以幫助我們更快且直覺的了解資料。在Python裡，有兩個主要的套件可以協助我們做資料視覺化，分別是 Matplotlib 跟 Seaborn。<br>\n",
    "Matplotlib 具備很高的彈性，他允許使用者對圖表的各項元素做調整(包含標題、坐標軸、圖表本身等)。而Seaborn則是基於Matplotlib 的套件，它簡化了作圖的流程跟指令，<br>\n",
    "在視覺美感跟互動性上也優於 Matplotlib。考慮到泛用性，我們這章節會以Matplotlib為主。"
   ]
  },
  {
   "cell_type": "markdown",
   "metadata": {
    "pycharm": {
     "name": "#%% md\n"
    }
   },
   "source": [
    "![Seaborn Demo](https://github.com/JumpingSquid/py_tutorial/blob/master/image/seaborn_demo.png?raw=true)\n",
    "![Matplotlib demo](https://github.com/JumpingSquid/py_tutorial/blob/master/image/matplotlib_demo.png?raw=true)"
   ]
  },
  {
   "cell_type": "code",
   "execution_count": null,
   "metadata": {},
   "outputs": [],
   "source": [
    "import matplotlib.pyplot as plt\n",
    "import pandas as pd\n",
    "import numpy as np"
   ]
  },
  {
   "cell_type": "code",
   "execution_count": null,
   "metadata": {},
   "outputs": [],
   "source": [
    "# we read the data (if you run this in the local environment, you can read 'titanic.csv' instead)\n",
    "df = pd.read_csv(\"https://raw.githubusercontent.com/JumpingSquid/py_tutorial/master/data/titanic.csv\")\n",
    "\n",
    "# another one data with stock price\n",
    "df_sp = pd.read_csv(\"https://raw.githubusercontent.com/JumpingSquid/py_tutorial/master/data/S&P_500.csv\")"
   ]
  },
  {
   "cell_type": "code",
   "execution_count": null,
   "metadata": {},
   "outputs": [],
   "source": [
    "df.head()"
   ]
  },
  {
   "cell_type": "code",
   "execution_count": null,
   "metadata": {},
   "outputs": [],
   "source": [
    "df_sp.head()"
   ]
  },
  {
   "cell_type": "markdown",
   "metadata": {},
   "source": [
    "## Line Chart\n",
    "We typically use line chart for time-series data.<br>\n",
    "\n",
    "線圖通常用來呈現資料在時間的趨勢變化。"
   ]
  },
  {
   "cell_type": "code",
   "execution_count": null,
   "metadata": {},
   "outputs": [],
   "source": [
    "plt.plot(df_sp[df_sp.Name=='AAL'].date, df_sp[df_sp.Name=='AAL'].close)"
   ]
  },
  {
   "cell_type": "markdown",
   "metadata": {},
   "source": [
    "## Bar chart\n",
    "Bar chart has broader usa case, for instance, comparing data with different categories.<br>\n",
    "\n",
    "長柱圖的應用情境較廣，比方說用來比較不同類別的某項指標大小等。"
   ]
  },
  {
   "cell_type": "code",
   "execution_count": null,
   "metadata": {},
   "outputs": [],
   "source": [
    "Pclass_count = df.Pclass.value_counts()\n",
    "plt.bar(Pclass_count.index, Pclass_count.values)"
   ]
  },
  {
   "cell_type": "markdown",
   "metadata": {},
   "source": [
    "## Histogram\n",
    "Usually we use a histogram to see the distribution of data.<br>\n",
    "\n",
    "柱狀圖主要是用來表現資料樣本的分布"
   ]
  },
  {
   "cell_type": "code",
   "execution_count": null,
   "metadata": {},
   "outputs": [],
   "source": [
    "plt.hist(df.Age.dropna())"
   ]
  },
  {
   "cell_type": "markdown",
   "metadata": {},
   "source": [
    "## Box Plot\n",
    "Box plot is also used to show the distribution of data, specifically the percentile and the mean.<br>\n",
    "\n",
    "盒狀圖可以呈現出資料的最小、各分位數、平均與最大值。適合來比較不同類別的指標分布。"
   ]
  },
  {
   "cell_type": "code",
   "execution_count": null,
   "metadata": {},
   "outputs": [],
   "source": [
    "fig,axes = plt.subplots()\n",
    "df.boxplot(column='Fare',by=['Pclass'],ax=axes)"
   ]
  },
  {
   "cell_type": "markdown",
   "metadata": {},
   "source": [
    "## Scatter Plot\n",
    "Scatter plot is used to show the correlation between two variables.<br>\n",
    "\n",
    "散佈圖通常用於看兩項變數之間的關聯"
   ]
  },
  {
   "cell_type": "code",
   "execution_count": null,
   "metadata": {},
   "outputs": [],
   "source": [
    "# we can see the correlation by using scatter\n",
    "plt.scatter(x=df.Age, y=df.Fare)"
   ]
  },
  {
   "cell_type": "code",
   "execution_count": null,
   "metadata": {
    "pycharm": {
     "name": "#%%\n"
    }
   },
   "outputs": [],
   "source": [
    "# We can also use color to differentiate the category\n",
    "plt.scatter(x=df.Age, y=df.Fare, c= np.where(df.Sex==\"female\",1,0), cmap=\"coolwarm\")"
   ]
  }
 ],
 "metadata": {
  "kernelspec": {
   "display_name": "Python 3",
   "language": "python",
   "name": "python3"
  },
  "language_info": {
   "codemirror_mode": {
    "name": "ipython",
    "version": 3
   },
   "file_extension": ".py",
   "mimetype": "text/x-python",
   "name": "python",
   "nbconvert_exporter": "python",
   "pygments_lexer": "ipython3",
   "version": "3.6.8"
  }
 },
 "nbformat": 4,
 "nbformat_minor": 2
}
